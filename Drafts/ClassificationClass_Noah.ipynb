{
 "cells": [
  {
   "cell_type": "code",
   "execution_count": 1,
   "id": "3da0f1c1",
   "metadata": {},
   "outputs": [],
   "source": [
    "import pandas as pd\n",
    "import matplotlib.pyplot as plt\n",
    "import seaborn as sns\n",
    "import numpy as np"
   ]
  },
  {
   "cell_type": "code",
   "execution_count": 9,
   "id": "6000e612",
   "metadata": {},
   "outputs": [],
   "source": [
    "class Classification:\n",
    "    #TO DO:\n",
    "    # Raise Error in show accuracy if no classifier was build\n",
    "    # make the confusion matrix flexible\n",
    "    # raise Error in upsample function\n",
    "    \n",
    "    def __init__(self, dataframe, column_names=[]):\n",
    "        self.data_splitted = False\n",
    "        \n",
    "        if isinstance(dataframe, pd.DataFrame):\n",
    "            self.data = dataframe\n",
    "            data_shape = self.data.shape\n",
    "            print(\"Classification-Object with\",str(data_shape[0]),\"samples and\",str(data_shape[1]),\"columns was created\")\n",
    "        else:\n",
    "            raise Exception(\"No pandas dataframe was given!\")\n",
    "\n",
    "        if column_names and len(column_names)==data_shape[1]:\n",
    "            self.data.columns = column_names\n",
    "            #Try Catch if not enough column names were given\n",
    "        elif not column_names:\n",
    "            print(\"No column names were given\")\n",
    "        else:\n",
    "            raise Exception(\"Number of column names dont match with number of columns!\")\n",
    "    \n",
    "    def __str__(self):\n",
    "        pass\n",
    "    \n",
    "    def __del__(self):\n",
    "        pass\n",
    "    \n",
    "    def split_train_test(self, y_column_name, test_size=0.2, random_state=0, upsample=False, scaling=False, deleting_na= False):\n",
    "        from sklearn.model_selection import train_test_split\n",
    "        from sklearn.preprocessing import StandardScaler\n",
    "        \n",
    "        if y_column_name in self.data.columns:\n",
    "            \n",
    "            if deleting_na:\n",
    "                self.data = self.data.dropna(how='all')\n",
    "                print(\"Data has been preprocessed!\")\n",
    "            \n",
    "            self.data_splitted = True\n",
    "            self._x_data = self.data.copy()\n",
    "            self._x_train, self._x_test= train_test_split(self._x_data, \n",
    "                                                          test_size = test_size, \n",
    "                                                          random_state = random_state)\n",
    "            if upsample:\n",
    "                self._x_train = self._upsample_dataset(y_column_name)\n",
    "            \n",
    "            self._y_train = self._x_train.pop(y_column_name)\n",
    "            self._y_test = self._x_test.pop(y_column_name)\n",
    "            \n",
    "\n",
    "            self._y_train.value_counts().plot(kind=\"bar\",title=\"Distribution of classification values in the train data set\",colormap=\"gray\")\n",
    "            print(\"Train data shape:\\t\"+str(self._x_train.shape)+\"\\ttrain label shape:\\t\"+str(self._y_train.shape))\n",
    "            print(\"Test data shape:\\t\"+str(self._x_test.shape)+\" \\ttest label shape:\\t\"+str(self._y_test.shape))\n",
    "            \n",
    "            if scaling:\n",
    "                scaler = StandardScaler()\n",
    "                self._x_train = scaler.fit_transform(self._x_train)\n",
    "                self._x_test = scaler.transform(self._x_test)\n",
    "                print(\"Data has been rescalled!\")\n",
    "            \n",
    "            \n",
    "\n",
    "        elif y_column_name not in self.data.columns:\n",
    "            raise Exception(\"Given column name was not found in the dataset\")\n",
    "    \n",
    "    def _upsample_dataset(self,y_column_name):\n",
    "        \n",
    "        from sklearn.utils import resample\n",
    "        count=self._x_train[y_column_name].value_counts(sort=True)\n",
    "        mask_min = self._x_train[y_column_name].values == count.keys()[-1]\n",
    "        mask_max = self._x_train[y_column_name].values == count.keys()[0]\n",
    "        x_train_min = self._x_train.loc[mask_min]\n",
    "        x_train_max = self._x_train.loc[mask_max]\n",
    "\n",
    "        x_train_min_upsampled = resample(x_train_min, \n",
    "                                        replace=True,\n",
    "                                        n_samples=x_train_max.shape[0],\n",
    "                                        random_state=0)\n",
    "        \n",
    "        '''\n",
    "        x_train_max_downsampled = resample(x_train_max, \n",
    "                                           replace=True,\n",
    "                                           n_samples=x_train_min.shape[0],\n",
    "                                           random_state=0)\n",
    "        \n",
    "        downsampled_x_train = pd.concat([x_train_max_downsampled, x_train_min])\n",
    "        '''\n",
    "        upsampled_x_train = pd.concat([x_train_max, x_train_min_upsampled])\n",
    "        \n",
    "        return upsampled_x_train\n",
    "        \n",
    "        \n",
    "    \n",
    "    def build_classifier(self, classifier_name, *args):\n",
    "        from sklearn import metrics\n",
    "        \n",
    "        if self.data_splitted:\n",
    "            if classifier_name == \"KNN\": #K nearest neighbor\n",
    "                self.classifier = self._build_knn_classifier(*args)\n",
    "            elif classifier_name == \"SVM\": #\n",
    "                self.classifier = self._build_SVM_classifier(*args)\n",
    "            elif classifier_name == \"LR\": \n",
    "                self.classifier = self._build_LogisticRegression_classifier(*args)\n",
    "            else:\n",
    "                raise Exception(\"Classifier was not found! Avialable options are KNN (K-Nearest Neighbor), SVM (Support Vector Machine), LR (Logistic Regression)\")\n",
    "            self._y_pred = self.classifier.predict(self._x_test)\n",
    "            print(\"A\",self.classifier,\" has been build with an overall accuracy of\", round(metrics.accuracy_score(self._y_test, self._y_pred),2))\n",
    "        else:\n",
    "            print(\"The data has to be splitted in train and test data befor a classifier can be build (use the split_train_test command)\")\n",
    "                    \n",
    "    def _build_knn_classifier(self,k=5):\n",
    "        from sklearn.neighbors import KNeighborsClassifier\n",
    "        \n",
    "        classifier = KNeighborsClassifier(n_neighbors=k)\n",
    "        return classifier.fit(self._x_train, self._y_train)\n",
    "    \n",
    "    def _build_SVM_classifier(self,kernel_fun=\"linear\"):\n",
    "        from sklearn import svm\n",
    "        \n",
    "        classifier = svm.SVC(kernel = kernel_fun)\n",
    "        return classifier.fit(self._x_train, self._y_train)\n",
    "        \n",
    "    def _build_LogisticRegression_classifier(self,solver=\"liblinear\"):\n",
    "        from sklearn.linear_model import LogisticRegression\n",
    "        \n",
    "        classifier = LogisticRegression(solver = solver)\n",
    "        return classifier.fit(self._x_train, self._y_train)\n",
    "    \n",
    "    def show_classifier_accuracy(self):\n",
    "        from sklearn import metrics\n",
    "        cnf_matrix = metrics.confusion_matrix(self._y_test, self._y_pred)\n",
    "        \n",
    "        for dim in range(cnf_matrix.shape[0]):\n",
    "            accuracy = cnf_matrix[dim][dim]/sum(cnf_matrix[dim])\n",
    "            print(\"Accuracy for the \",dim,\"class:\", accuracy)\n",
    "            \n",
    "        #plot the confusion matrix\n",
    "        # not felxibale !!!\n",
    "        class_names=[0,1] \n",
    "        fig, ax = plt.subplots()\n",
    "        tick_marks = np.arange(len(class_names))\n",
    "        plt.xticks(tick_marks, class_names)\n",
    "        plt.yticks(tick_marks, class_names)\n",
    "        \n",
    "        # create heatmap\n",
    "        sns.heatmap(pd.DataFrame(cnf_matrix), annot=True, cmap=\"YlGnBu\" ,fmt='g')\n",
    "        ax.xaxis.set_label_position(\"top\")\n",
    "        plt.tight_layout()\n",
    "        plt.title(self.classifier,y=1.1)\n",
    "        plt.ylabel('Actual')\n",
    "        plt.xlabel('Predicted')\n",
    "        \n",
    "        #raise Error if no classifier was build yet\n",
    "        \n",
    "    def drop_dataframe_column(self, column_name):\n",
    "        if column_name in self.data.columns:\n",
    "            self.data.drop([column_name], axis=1, inplace=True)\n",
    "            print(\"Column\",str(column_name),\"was droped, new dataframe:\")\n",
    "            print(data.head())\n",
    "        else:\n",
    "            raise Exception(\"Given column name was not found in the dataset\")\n",
    "    \n",
    "    def show_correlation(self,figsize=(5,4)):\n",
    "        corrmat=self.data.corr()\n",
    "\n",
    "        mask = np.zeros_like(corrmat)\n",
    "        mask[np.triu_indices_from(mask)] = True\n",
    "\n",
    "        f, ax = plt.subplots(figsize=figsize)\n",
    "        ax = sns.heatmap(corrmat, mask=mask, cmap =\"YlGnBu\", linewidths = 0.1,fmt = \".2f\",annot=True,vmin =-1, vmax=1)\n",
    "        return \n",
    "    \n",
    "    def get_classifer():\n",
    "        return self.classifer\n",
    "    \n",
    "    ### SOME BASIC DATAFRAME FUNCTIONS \n",
    "    def show_dataframe_head(self):\n",
    "        return self.data.head()\n",
    "    \n",
    "    def describe_dataframe(self):\n",
    "        return self.data.describe()\n",
    "    \n",
    "    def show_unique_values(self):\n",
    "        for column_name in self.data.columns:\n",
    "            print(column_name)\n",
    "            print(sorted(self.data[column_name].unique()))\n",
    "            print()"
   ]
  },
  {
   "cell_type": "code",
   "execution_count": 12,
   "id": "c8a8cc2d",
   "metadata": {},
   "outputs": [
    {
     "name": "stdout",
     "output_type": "stream",
     "text": [
      "Classification-Object with 748 samples and 5 columns was created\n",
      "No column names were given\n"
     ]
    }
   ],
   "source": [
    "data = pd.read_csv(\"transfusion.csv\")\n",
    "\n",
    "column_names = [\"Months since Last Donation\",\n",
    "                \"Number of Donations\",\n",
    "                \"Total Volume Donated (c.c.)\",\n",
    "                \"Months since First Donation\",\n",
    "                \"Made Donation in March 2007\"]\n",
    "\n",
    "class_obj=Classification(data)"
   ]
  },
  {
   "cell_type": "code",
   "execution_count": 13,
   "id": "a80fc5bf",
   "metadata": {},
   "outputs": [
    {
     "data": {
      "text/html": [
       "<div>\n",
       "<style scoped>\n",
       "    .dataframe tbody tr th:only-of-type {\n",
       "        vertical-align: middle;\n",
       "    }\n",
       "\n",
       "    .dataframe tbody tr th {\n",
       "        vertical-align: top;\n",
       "    }\n",
       "\n",
       "    .dataframe thead th {\n",
       "        text-align: right;\n",
       "    }\n",
       "</style>\n",
       "<table border=\"1\" class=\"dataframe\">\n",
       "  <thead>\n",
       "    <tr style=\"text-align: right;\">\n",
       "      <th></th>\n",
       "      <th>M1</th>\n",
       "      <th>M2</th>\n",
       "      <th>M3</th>\n",
       "      <th>M4</th>\n",
       "      <th>M5</th>\n",
       "    </tr>\n",
       "  </thead>\n",
       "  <tbody>\n",
       "    <tr>\n",
       "      <th>count</th>\n",
       "      <td>748.000000</td>\n",
       "      <td>748.000000</td>\n",
       "      <td>748.000000</td>\n",
       "      <td>748.000000</td>\n",
       "      <td>748.000000</td>\n",
       "    </tr>\n",
       "    <tr>\n",
       "      <th>mean</th>\n",
       "      <td>9.506684</td>\n",
       "      <td>5.514706</td>\n",
       "      <td>1378.676471</td>\n",
       "      <td>34.282086</td>\n",
       "      <td>0.237968</td>\n",
       "    </tr>\n",
       "    <tr>\n",
       "      <th>std</th>\n",
       "      <td>8.095396</td>\n",
       "      <td>5.839307</td>\n",
       "      <td>1459.826781</td>\n",
       "      <td>24.376714</td>\n",
       "      <td>0.426124</td>\n",
       "    </tr>\n",
       "    <tr>\n",
       "      <th>min</th>\n",
       "      <td>0.000000</td>\n",
       "      <td>1.000000</td>\n",
       "      <td>250.000000</td>\n",
       "      <td>2.000000</td>\n",
       "      <td>0.000000</td>\n",
       "    </tr>\n",
       "    <tr>\n",
       "      <th>25%</th>\n",
       "      <td>2.750000</td>\n",
       "      <td>2.000000</td>\n",
       "      <td>500.000000</td>\n",
       "      <td>16.000000</td>\n",
       "      <td>0.000000</td>\n",
       "    </tr>\n",
       "    <tr>\n",
       "      <th>50%</th>\n",
       "      <td>7.000000</td>\n",
       "      <td>4.000000</td>\n",
       "      <td>1000.000000</td>\n",
       "      <td>28.000000</td>\n",
       "      <td>0.000000</td>\n",
       "    </tr>\n",
       "    <tr>\n",
       "      <th>75%</th>\n",
       "      <td>14.000000</td>\n",
       "      <td>7.000000</td>\n",
       "      <td>1750.000000</td>\n",
       "      <td>50.000000</td>\n",
       "      <td>0.000000</td>\n",
       "    </tr>\n",
       "    <tr>\n",
       "      <th>max</th>\n",
       "      <td>74.000000</td>\n",
       "      <td>50.000000</td>\n",
       "      <td>12500.000000</td>\n",
       "      <td>98.000000</td>\n",
       "      <td>1.000000</td>\n",
       "    </tr>\n",
       "  </tbody>\n",
       "</table>\n",
       "</div>"
      ],
      "text/plain": [
       "               M1          M2            M3          M4          M5\n",
       "count  748.000000  748.000000    748.000000  748.000000  748.000000\n",
       "mean     9.506684    5.514706   1378.676471   34.282086    0.237968\n",
       "std      8.095396    5.839307   1459.826781   24.376714    0.426124\n",
       "min      0.000000    1.000000    250.000000    2.000000    0.000000\n",
       "25%      2.750000    2.000000    500.000000   16.000000    0.000000\n",
       "50%      7.000000    4.000000   1000.000000   28.000000    0.000000\n",
       "75%     14.000000    7.000000   1750.000000   50.000000    0.000000\n",
       "max     74.000000   50.000000  12500.000000   98.000000    1.000000"
      ]
     },
     "execution_count": 13,
     "metadata": {},
     "output_type": "execute_result"
    }
   ],
   "source": [
    "class_obj.describe_dataframe()"
   ]
  },
  {
   "cell_type": "code",
   "execution_count": 14,
   "id": "2e0fb31d",
   "metadata": {},
   "outputs": [
    {
     "name": "stdout",
     "output_type": "stream",
     "text": [
      "Train data shape:\t(598, 4)\ttrain label shape:\t(598,)\n",
      "Test data shape:\t(150, 4) \ttest label shape:\t(150,)\n"
     ]
    },
    {
     "data": {
      "image/png": "[encoded data removed]",
      "text/plain": [
       "<Figure size 432x288 with 1 Axes>"
      ]
     },
     "metadata": {
      "needs_background": "light"
     },
     "output_type": "display_data"
    }
   ],
   "source": [
    "class_obj.split_train_test(\"M5\")"
   ]
  },
  {
   "cell_type": "code",
   "execution_count": 6,
   "id": "5a302608",
   "metadata": {},
   "outputs": [
    {
     "name": "stdout",
     "output_type": "stream",
     "text": [
      "Train data shape:\t(922, 4)\ttrain label shape:\t(922,)\n",
      "Test data shape:\t(150, 4) \ttest label shape:\t(150,)\n"
     ]
    },
    {
     "data": {
      "image/png": "[encoded data removed]",
      "text/plain": [
       "<Figure size 432x288 with 1 Axes>"
      ]
     },
     "metadata": {
      "needs_background": "light"
     },
     "output_type": "display_data"
    }
   ],
   "source": [
    "class_obj.split_train_test(\"Made Donation in March 2007\",upsample=True)"
   ]
  },
  {
   "cell_type": "code",
   "execution_count": 7,
   "id": "0490e67f",
   "metadata": {},
   "outputs": [
    {
     "name": "stdout",
     "output_type": "stream",
     "text": [
      "A KNeighborsClassifier(n_neighbors=20)  has been build with an overall accuracy of 0.71\n"
     ]
    }
   ],
   "source": [
    "class_obj.build_classifier(\"KNN\",k=20)"
   ]
  },
  {
   "cell_type": "code",
   "execution_count": 8,
   "id": "abd271c6",
   "metadata": {},
   "outputs": [
    {
     "name": "stdout",
     "output_type": "stream",
     "text": [
      "Accuracy for the  0 class: 0.7247706422018348\n",
      "Accuracy for the  1 class: 0.6585365853658537\n"
     ]
    },
    {
     "data": {
      "image/png": "[encoded data removed]",
      "text/plain": [
       "<Figure size 432x288 with 2 Axes>"
      ]
     },
     "metadata": {
      "needs_background": "light"
     },
     "output_type": "display_data"
    }
   ],
   "source": [
    "class_obj.show_classifier_accuracy() #recall, precision, f1-score, "
   ]
  },
  {
   "cell_type": "code",
   "execution_count": 9,
   "id": "f0cabfd1",
   "metadata": {},
   "outputs": [
    {
     "name": "stdout",
     "output_type": "stream",
     "text": [
      "A LogisticRegression(solver='liblinear')  has been build with an overall accuracy of 0.68\n"
     ]
    }
   ],
   "source": [
    "class_obj.build_classifier(\"LR\",solver=\"liblinear\")"
   ]
  },
  {
   "cell_type": "code",
   "execution_count": 10,
   "id": "83b43113",
   "metadata": {},
   "outputs": [
    {
     "name": "stdout",
     "output_type": "stream",
     "text": [
      "Accuracy for the  0 class: 0.6330275229357798\n",
      "Accuracy for the  1 class: 0.8048780487804879\n"
     ]
    },
    {
     "data": {
      "image/png": "[encoded data removed]",
      "text/plain": [
       "<Figure size 432x288 with 2 Axes>"
      ]
     },
     "metadata": {
      "needs_background": "light"
     },
     "output_type": "display_data"
    }
   ],
   "source": [
    "class_obj.show_classifier_accuracy()"
   ]
  },
  {
   "cell_type": "code",
   "execution_count": 11,
   "id": "c6784dfd",
   "metadata": {},
   "outputs": [
    {
     "name": "stdout",
     "output_type": "stream",
     "text": [
      "A SVC(kernel='linear')  has been build with an overall accuracy of 0.65\n"
     ]
    }
   ],
   "source": [
    "class_obj.build_classifier(\"SVM\",kernel_fun=\"linear\")"
   ]
  },
  {
   "cell_type": "code",
   "execution_count": 12,
   "id": "012e8793",
   "metadata": {},
   "outputs": [
    {
     "name": "stdout",
     "output_type": "stream",
     "text": [
      "Accuracy for the  0 class: 0.5779816513761468\n",
      "Accuracy for the  1 class: 0.8292682926829268\n"
     ]
    },
    {
     "data": {
      "image/png": "[encoded data removed]",
      "text/plain": [
       "<Figure size 432x288 with 2 Axes>"
      ]
     },
     "metadata": {
      "needs_background": "light"
     },
     "output_type": "display_data"
    }
   ],
   "source": [
    "class_obj.show_classifier_accuracy()"
   ]
  },
  {
   "cell_type": "code",
   "execution_count": null,
   "id": "6350c5fa",
   "metadata": {},
   "outputs": [],
   "source": [
    "class_obj.build_classifier(\"KNN\",20)\n",
    "class_obj.build_classifier(\"LR\",\"liblinear\")\n",
    "class_obj.build_classifier(\"SVM\",\"linear\")\n",
    "# "
   ]
  },
  {
   "cell_type": "code",
   "execution_count": 11,
   "id": "4525f31a",
   "metadata": {},
   "outputs": [
    {
     "ename": "TypeError",
     "evalue": "build_classifier() takes 2 positional arguments but 3 were given",
     "output_type": "error",
     "traceback": [
      "\u001b[0;31m---------------------------------------------------------------------------\u001b[0m",
      "\u001b[0;31mTypeError\u001b[0m                                 Traceback (most recent call last)",
      "\u001b[0;32m/var/folders/78/1bng90q94y76s663_g_194zc0000gn/T/ipykernel_60621/2097823736.py\u001b[0m in \u001b[0;36m<module>\u001b[0;34m\u001b[0m\n\u001b[0;32m----> 1\u001b[0;31m \u001b[0mclass_obj\u001b[0m\u001b[0;34m.\u001b[0m\u001b[0mbuild_classifier\u001b[0m\u001b[0;34m(\u001b[0m\u001b[0;34m\"KNN\"\u001b[0m\u001b[0;34m,\u001b[0m\u001b[0;36m20\u001b[0m\u001b[0;34m)\u001b[0m\u001b[0;34m\u001b[0m\u001b[0;34m\u001b[0m\u001b[0m\n\u001b[0m",
      "\u001b[0;31mTypeError\u001b[0m: build_classifier() takes 2 positional arguments but 3 were given"
     ]
    }
   ],
   "source": [
    "class_obj.build_classifier(\"KNN\",20)"
   ]
  },
  {
   "cell_type": "code",
   "execution_count": null,
   "id": "412e47d7",
   "metadata": {},
   "outputs": [],
   "source": []
  },
  {
   "cell_type": "code",
   "execution_count": null,
   "id": "359f6c76",
   "metadata": {},
   "outputs": [],
   "source": []
  },
  {
   "cell_type": "code",
   "execution_count": null,
   "id": "d449ac30",
   "metadata": {},
   "outputs": [],
   "source": []
  },
  {
   "cell_type": "code",
   "execution_count": null,
   "id": "386e3de2",
   "metadata": {},
   "outputs": [],
   "source": []
  },
  {
   "cell_type": "code",
   "execution_count": null,
   "id": "46c5297b",
   "metadata": {},
   "outputs": [],
   "source": []
  },
  {
   "cell_type": "code",
   "execution_count": null,
   "id": "75614bae",
   "metadata": {},
   "outputs": [],
   "source": []
  },
  {
   "cell_type": "code",
   "execution_count": null,
   "id": "85f1b851",
   "metadata": {},
   "outputs": [],
   "source": []
  },
  {
   "cell_type": "code",
   "execution_count": null,
   "id": "2c6a3151",
   "metadata": {},
   "outputs": [],
   "source": []
  }
 ],
 "metadata": {
  "kernelspec": {
   "display_name": "Python 3 (ipykernel)",
   "language": "python",
   "name": "python3"
  },
  "language_info": {
   "codemirror_mode": {
    "name": "ipython",
    "version": 3
   },
   "file_extension": ".py",
   "mimetype": "text/x-python",
   "name": "python",
   "nbconvert_exporter": "python",
   "pygments_lexer": "ipython3",
   "version": "3.9.7"
  }
 },
 "nbformat": 4,
 "nbformat_minor": 5
}
